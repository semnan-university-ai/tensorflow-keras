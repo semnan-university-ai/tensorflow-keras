{
  "nbformat": 4,
  "nbformat_minor": 0,
  "metadata": {
    "accelerator": "GPU",
    "colab": {
      "name": "Untitled4.ipynb",
      "provenance": [],
      "collapsed_sections": [],
      "include_colab_link": true
    },
    "kernelspec": {
      "display_name": "Python 3",
      "name": "python3"
    }
  },
  "cells": [
    {
      "cell_type": "markdown",
      "metadata": {
        "id": "view-in-github",
        "colab_type": "text"
      },
      "source": [
        "<a href=\"https://colab.research.google.com/github/semnan-university-ai/tensorflow-keras/blob/main/Untitled4.ipynb\" target=\"_parent\"><img src=\"https://colab.research.google.com/assets/colab-badge.svg\" alt=\"Open In Colab\"/></a>"
      ]
    },
    {
      "cell_type": "markdown",
      "metadata": {
        "id": "QCvztOKtRLHP"
      },
      "source": [
        "![524px-LSTM_cell.svg.png](data:image/png;base64,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)"
      ]
    },
    {
      "cell_type": "code",
      "metadata": {
        "colab": {
          "base_uri": "https://localhost:8080/"
        },
        "id": "rC67XGTWROi3",
        "outputId": "f45c0b64-6a2b-4909-eb11-4c34b13da810"
      },
      "source": [
        "from __future__ import print_function\r\n",
        "\r\n",
        "from keras.preprocessing import sequence\r\n",
        "from keras.models import Sequential\r\n",
        "from keras.layers import Dense, Embedding\r\n",
        "from keras.layers import LSTM\r\n",
        "from keras.datasets import imdb\r\n",
        "\r\n",
        "max_features = 20000\r\n",
        "maxlen = 80  # cut texts after this number of words (among top max_features most common words)\r\n",
        "batch_size = 32\r\n",
        "\r\n",
        "print('Loading data...')\r\n",
        "(x_train, y_train), (x_test, y_test) = imdb.load_data(num_words=max_features)\r\n",
        "print(len(x_train), 'train sequences')\r\n",
        "print(len(x_test), 'test sequences')\r\n",
        "\r\n",
        "print('Pad sequences (samples x time)')\r\n",
        "x_train = sequence.pad_sequences(x_train, maxlen=maxlen)\r\n",
        "x_test = sequence.pad_sequences(x_test, maxlen=maxlen)\r\n",
        "print('x_train shape:', x_train.shape)\r\n",
        "print('x_test shape:', x_test.shape)\r\n",
        "\r\n",
        "print('Build model...')\r\n",
        "model = Sequential()\r\n",
        "model.add(Embedding(max_features, 128))\r\n",
        "model.add(LSTM(128, dropout=0.2, recurrent_dropout=0.2))\r\n",
        "model.add(Dense(1, activation='sigmoid'))\r\n",
        "\r\n",
        "# try using different optimizers and different optimizer configs\r\n",
        "model.compile(loss='binary_crossentropy',\r\n",
        "              optimizer='adam',\r\n",
        "              metrics=['accuracy'])\r\n",
        "\r\n",
        "print('Train...')\r\n",
        "model.fit(x_train, y_train,\r\n",
        "          batch_size=batch_size,\r\n",
        "          epochs=15,\r\n",
        "          validation_data=(x_test, y_test))\r\n",
        "score, acc = model.evaluate(x_test, y_test,\r\n",
        "                            batch_size=batch_size)\r\n",
        "print('Test score:', score)\r\n",
        "print('Test accuracy:', acc)\r\n"
      ],
      "execution_count": null,
      "outputs": [
        {
          "output_type": "stream",
          "text": [
            "Loading data...\n",
            "Downloading data from https://storage.googleapis.com/tensorflow/tf-keras-datasets/imdb.npz\n",
            "17465344/17464789 [==============================] - 0s 0us/step\n"
          ],
          "name": "stdout"
        },
        {
          "output_type": "stream",
          "text": [
            "<string>:6: VisibleDeprecationWarning: Creating an ndarray from ragged nested sequences (which is a list-or-tuple of lists-or-tuples-or ndarrays with different lengths or shapes) is deprecated. If you meant to do this, you must specify 'dtype=object' when creating the ndarray\n",
            "/usr/local/lib/python3.6/dist-packages/tensorflow/python/keras/datasets/imdb.py:159: VisibleDeprecationWarning: Creating an ndarray from ragged nested sequences (which is a list-or-tuple of lists-or-tuples-or ndarrays with different lengths or shapes) is deprecated. If you meant to do this, you must specify 'dtype=object' when creating the ndarray\n",
            "  x_train, y_train = np.array(xs[:idx]), np.array(labels[:idx])\n",
            "/usr/local/lib/python3.6/dist-packages/tensorflow/python/keras/datasets/imdb.py:160: VisibleDeprecationWarning: Creating an ndarray from ragged nested sequences (which is a list-or-tuple of lists-or-tuples-or ndarrays with different lengths or shapes) is deprecated. If you meant to do this, you must specify 'dtype=object' when creating the ndarray\n",
            "  x_test, y_test = np.array(xs[idx:]), np.array(labels[idx:])\n"
          ],
          "name": "stderr"
        },
        {
          "output_type": "stream",
          "text": [
            "25000 train sequences\n",
            "25000 test sequences\n",
            "Pad sequences (samples x time)\n",
            "x_train shape: (25000, 80)\n",
            "x_test shape: (25000, 80)\n",
            "Build model...\n",
            "WARNING:tensorflow:Layer lstm will not use cuDNN kernel since it doesn't meet the cuDNN kernel criteria. It will use generic GPU kernel as fallback when running on GPU\n",
            "Train...\n",
            "Epoch 1/15\n",
            "782/782 [==============================] - 272s 343ms/step - loss: 0.5184 - accuracy: 0.7237 - val_loss: 0.3741 - val_accuracy: 0.8354\n",
            "Epoch 2/15\n",
            "782/782 [==============================] - 264s 338ms/step - loss: 0.2434 - accuracy: 0.9060 - val_loss: 0.3727 - val_accuracy: 0.8407\n",
            "Epoch 3/15\n",
            "782/782 [==============================] - 270s 346ms/step - loss: 0.1429 - accuracy: 0.9482 - val_loss: 0.4486 - val_accuracy: 0.8279\n",
            "Epoch 4/15\n",
            "782/782 [==============================] - 271s 347ms/step - loss: 0.0875 - accuracy: 0.9689 - val_loss: 0.5441 - val_accuracy: 0.8240\n",
            "Epoch 5/15\n",
            "782/782 [==============================] - 272s 348ms/step - loss: 0.0555 - accuracy: 0.9817 - val_loss: 0.7183 - val_accuracy: 0.8126\n",
            "Epoch 6/15\n",
            "782/782 [==============================] - 271s 347ms/step - loss: 0.0447 - accuracy: 0.9861 - val_loss: 0.8032 - val_accuracy: 0.8103\n",
            "Epoch 7/15\n",
            "782/782 [==============================] - 268s 342ms/step - loss: 0.0259 - accuracy: 0.9916 - val_loss: 0.8649 - val_accuracy: 0.8209\n",
            "Epoch 8/15\n",
            "782/782 [==============================] - 272s 348ms/step - loss: 0.0247 - accuracy: 0.9915 - val_loss: 0.8775 - val_accuracy: 0.8195\n",
            "Epoch 9/15\n",
            "782/782 [==============================] - 268s 343ms/step - loss: 0.0275 - accuracy: 0.9910 - val_loss: 0.8776 - val_accuracy: 0.8212\n",
            "Epoch 10/15\n",
            "782/782 [==============================] - 271s 346ms/step - loss: 0.0134 - accuracy: 0.9966 - val_loss: 0.9411 - val_accuracy: 0.8187\n",
            "Epoch 11/15\n",
            "782/782 [==============================] - 270s 346ms/step - loss: 0.0113 - accuracy: 0.9971 - val_loss: 1.0652 - val_accuracy: 0.8092\n",
            "Epoch 12/15\n",
            "782/782 [==============================] - 272s 347ms/step - loss: 0.0091 - accuracy: 0.9976 - val_loss: 1.0509 - val_accuracy: 0.8148\n",
            "Epoch 13/15\n",
            "782/782 [==============================] - 266s 341ms/step - loss: 0.0117 - accuracy: 0.9965 - val_loss: 0.9985 - val_accuracy: 0.8125\n",
            "Epoch 14/15\n",
            "782/782 [==============================] - 268s 343ms/step - loss: 0.0063 - accuracy: 0.9982 - val_loss: 1.0318 - val_accuracy: 0.8084\n",
            "Epoch 15/15\n",
            "782/782 [==============================] - 268s 343ms/step - loss: 0.0096 - accuracy: 0.9969 - val_loss: 1.0379 - val_accuracy: 0.8123\n",
            "782/782 [==============================] - 18s 22ms/step - loss: 1.0379 - accuracy: 0.8123\n",
            "Test score: 1.0379273891448975\n",
            "Test accuracy: 0.8123199939727783\n"
          ],
          "name": "stdout"
        }
      ]
    },
    {
      "cell_type": "code",
      "metadata": {
        "id": "qeOg9DRXRU3-"
      },
      "source": [
        ""
      ],
      "execution_count": null,
      "outputs": []
    }
  ]
}